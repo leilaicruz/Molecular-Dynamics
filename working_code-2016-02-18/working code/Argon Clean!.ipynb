{
 "cells": [
  {
   "cell_type": "markdown",
   "metadata": {},
   "source": [
    "# Argon clean!!"
   ]
  },
  {
   "cell_type": "code",
   "execution_count": 1,
   "metadata": {
    "collapsed": false
   },
   "outputs": [],
   "source": [
    "import numpy as np\n",
    "import math as math\n",
    "import matplotlib.pyplot as plt\n",
    "import statistics as stats\n",
    "from mpl_toolkits.mplot3d import Axes3D\n",
    "from itertools import product\n",
    "from numba import jit\n",
    "\n",
    "import timeit\n",
    "%matplotlib inline\n",
    "\n",
    "import init\n",
    "from force import Forces\n",
    "from Forcesg import Forcesg"
   ]
  },
  {
   "cell_type": "markdown",
   "metadata": {},
   "source": [
    "# General constants"
   ]
  },
  {
   "cell_type": "code",
   "execution_count": 2,
   "metadata": {
    "collapsed": true
   },
   "outputs": [],
   "source": [
    "#preferrably unvariable\n",
    "L = 3 #number of unit cells in 3 directions\n",
    "Z = 4 #number of atoms per unit cell\n",
    "N = Z*L**3 #number of atoms in total space\n",
    "\n",
    "\n",
    "## input parameters , for controlling the phase \n",
    "rho = 0.7 #density of particles\n",
    "T = 1.0\n",
    "\n",
    "## parameters that are influenced by input parameters\n",
    "l = (Z/rho)**(1/3) #unit cell length in sigma\n",
    "ld = L*l #computational domain length\n"
   ]
  },
  {
   "cell_type": "markdown",
   "metadata": {},
   "source": [
    "# Constant Energy verification"
   ]
  },
  {
   "cell_type": "code",
   "execution_count": null,
   "metadata": {
    "collapsed": false
   },
   "outputs": [],
   "source": [
    "r=init.position(l,N,L)\n",
    "v=init.velocity(T,N)\n",
    "F,V=Forces(r, ld, N)\n",
    "\n",
    "Time = 250 #timesteps\n",
    "dt = 0.004 #length of timestep\n",
    "\n",
    "#initiate vectors\n",
    "K=np.zeros(shape=(Time,))\n",
    "Energy=np.zeros(shape=(Time,))\n",
    "Ve = np.zeros(shape=(Time, ))\n",
    "\n",
    "for i in range(Time):\n",
    "    ## Verlet algorithm\n",
    "    v += 0.5* F * dt #halfway step for velocity (verlet)\n",
    "    r += v * dt #update position\n",
    "    r = np.mod(r , (ld)) #periodic boundary\n",
    "    F,V = Forces(r,ld,N) #forces due to new position\n",
    "    v += 0.5 * F * dt #complete velocity step\n",
    "    v2 = np.multiply(v,v)\n",
    "    \n",
    "    #Calculate energies\n",
    "    K[i] = 0.5*np.sum(v2) #kinetic energy\n",
    "    Ve[i]=V #potential\n",
    "    Energy[i]=K[i]+Ve[i] #total\n",
    "\n",
    "fig = plt.figure()\n",
    "ax = fig.add_subplot(111)\n",
    "ax.plot(Energy,label='Total')\n",
    "ax.plot(Ve,label='Potential')\n",
    "ax.plot(K,label='Kinetic')\n",
    "plt.legend(loc=0)\n",
    "# a = plt.plot(Energy, label='Energy')\n",
    "# b = plt.plot(Ve, label='Potential Energy')\n",
    "# c = plt.plot(K, label='Kinetics Energy')\n",
    "# plt.legend(handles=[a,b,c])\n",
    "\n",
    "\n",
    "\n",
    "    \n"
   ]
  },
  {
   "cell_type": "markdown",
   "metadata": {},
   "source": [
    "# Determination of Averages"
   ]
  },
  {
   "cell_type": "markdown",
   "metadata": {},
   "source": [
    "Scaling of the velocities for a desired temperature"
   ]
  },
  {
   "cell_type": "code",
   "execution_count": null,
   "metadata": {
    "collapsed": false
   },
   "outputs": [],
   "source": [
    "Time = 1000 #amount of timesteps for Cv calculation\n",
    "lt = 200 #amount of timesteps to thermostate\n",
    "\n",
    "#initiate atoms\n",
    "r=init.position(l,N,L)\n",
    "v=init.velocity(T,N)\n",
    "F,V=Forces(r, ld, N)\n",
    "\n",
    "#initiate vectors \n",
    "K=np.zeros(shape=(Time,))\n",
    "Energy = np.zeros(shape=(Time,))\n",
    "\n",
    "for i in range(Time):\n",
    "    ## Verlet Algorithm\n",
    "    v += 0.5* F * dt #halfway step for velocity (verlet)\n",
    "    r += v * dt #update position\n",
    "    r = np.mod(r , (ld)) #periodic boundary\n",
    "    F,V = Forces(r,ld,N) #forces due to new position\n",
    "    v += 0.5 * F * dt #complete velocity step\n",
    "    \n",
    "    #Thermostat\n",
    "    K[i] = 0.5*np.sum( v * v)\n",
    "    if i<lt and (np.mod(i,10)==0): #mod for calling thermostat every 10 timesteps\n",
    "        #thermostat\n",
    "        scale=math.sqrt(1.5*(N-1)*T/K[i]) \n",
    "        v=scale*v\n",
    "        \n",
    "    #Energy to calculate Cv\n",
    "    K[i] = 0.5*np.sum( v * v)\n",
    "    Energy[i] = K[i] + V        \n",
    "   "
   ]
  },
  {
   "cell_type": "markdown",
   "metadata": {},
   "source": [
    " ## Heat Capacity \n",
    "\n"
   ]
  },
  {
   "cell_type": "code",
   "execution_count": null,
   "metadata": {
    "collapsed": false
   },
   "outputs": [],
   "source": [
    "# Get kinetic energy only after equilibrium (so after thermostat is done)\n",
    "Knew = K[lt:]\n",
    "#print(Knew)\n",
    "Kmean = np.mean(Knew)\n",
    "Kmean2 = Kmean*Kmean \n",
    "Kvar = np.var(Knew)\n",
    "Cv = (3*Kmean2)/(2*Kmean2 - 3*N*Kvar) # Cv /N (to check Cv/N = 1.5 kb )\n",
    "print(\"Cv is\", Cv)\n",
    "\n",
    "# visual check to see if energy is really constant\n",
    "fig = plt.figure()\n",
    "ax = fig.add_subplot(111)\n",
    "plt.plot(Energy,label='Total')\n",
    "plt.plot(K,label='Kinetic')\n",
    "plt.legend(loc=0)"
   ]
  },
  {
   "cell_type": "markdown",
   "metadata": {},
   "source": [
    "# Correlation function"
   ]
  },
  {
   "cell_type": "code",
   "execution_count": 6,
   "metadata": {
    "collapsed": false
   },
   "outputs": [],
   "source": [
    "Time = 5000 #amount of timesteps for correlation function calculation\n",
    "lt = 2500 #amount of thermostat timesteps\n",
    "dt = 0.004 #length of timestep\n",
    "\n",
    "# constants for creating histogram\n",
    "bins=50\n",
    "binlen=ld/bins\n",
    "#initiate atoms\n",
    "r=init.position(l,N,L)\n",
    "v=init.velocity(T,N)\n",
    "F,n,notforce=Forcesg(r, ld, N, bins, binlen)\n",
    "\n",
    "for i in range(Time):\n",
    "    ## Verlet Algorithm\n",
    "    v += 0.5* F * dt #halfway step for velocity (verlet)\n",
    "    r += v * dt #update position\n",
    "    r = np.mod(r , (ld)) #periodic boundary\n",
    "    F , nt, notforce = Forcesg(r,ld,N,bins,binlen) #forces due to new position\n",
    "    v += 0.5 * F * dt #complete velocity step\n",
    "    if i>lt: #start counting distances after thermostat is done\n",
    "        n += nt\n",
    "    if i<lt and (np.mod(i,15)==0): #mod for calling thermostat every 20 timesteps\n",
    "        #thermostat\n",
    "        K = 0.5*np.sum( v * v)\n",
    "        scale=math.sqrt(1.5*(N-1)*T/K)\n",
    "        v=scale*v\n",
    "    \n",
    "navg=n/(Time-lt) #time averaging\n",
    "\n",
    "for j in range(bins):\n",
    "    Vshell=4*math.pi*(((j+0.5)*binlen)**2)*binlen #using r = (i+0.5)*dr for \"average\" distance for bin, \n",
    "    #computing the volume of the shell\n",
    "    navg[j]=navg[j]/Vshell\n",
    "    \n",
    "corr=2*ld**3/(N*(N-1))*navg #correlation function\n",
    "xaxis = np.linspace(0,ld,bins) #xaxis for correlation function"
   ]
  },
  {
   "cell_type": "code",
   "execution_count": 8,
   "metadata": {
    "collapsed": false
   },
   "outputs": [
    {
     "data": {
      "text/plain": [
       "[<matplotlib.lines.Line2D at 0x10a7769b0>]"
      ]
     },
     "execution_count": 8,
     "metadata": {},
     "output_type": "execute_result"
    },
    {
     "data": {
      "image/png": "[encoded data removed]",
      "text/plain": [
       "<matplotlib.figure.Figure at 0x10a3f0dd8>"
      ]
     },
     "metadata": {},
     "output_type": "display_data"
    }
   ],
   "source": [
    "#Plotting of the correlation function\n",
    "fig = plt.figure()\n",
    "ax2 = fig.add_subplot(111)\n",
    "ax2.plot(xaxis,corr)"
   ]
  },
  {
   "cell_type": "markdown",
   "metadata": {
    "collapsed": true
   },
   "source": [
    "## Pressure\n"
   ]
  },
  {
   "cell_type": "code",
   "execution_count": 10,
   "metadata": {
    "collapsed": false
   },
   "outputs": [
    {
     "name": "stdout",
     "output_type": "stream",
     "text": [
      "0.5172698160694551\n"
     ]
    }
   ],
   "source": [
    "Time = 5000 #amount of timesteps for Cv calculation\n",
    "lt = 2500 #amount of timesteps to thermostate\n",
    "dt = 0.004 #length of timestep\n",
    "\n",
    "#initiate atoms\n",
    "r=init.position(l,N,L)\n",
    "v=init.velocity(T,N)\n",
    "F, nt, pressuret = Forcesg(r, ld, N,1,ld)\n",
    "\n",
    "\n",
    "## MOOT variables\n",
    "bins = 1\n",
    "binlen = ld\n",
    "\n",
    "#initiate vectors \n",
    "pressure = pressuret\n",
    "\n",
    "for i in range(Time):\n",
    "    ## Verlet Algorithm\n",
    "    v += 0.5* F * dt #halfway step for velocity (verlet)\n",
    "    r += v * dt #update position\n",
    "    r = np.mod(r , (ld)) #periodic boundary\n",
    "    F,nt,pressuret = Forcesg(r,ld,N,bins,binlen) #forces due to new position\n",
    "    v += 0.5 * F * dt #complete velocity step\n",
    "    \n",
    "    #Thermostat\n",
    "    if i<lt and (np.mod(i,10)==0): #mod for calling thermostat 10 times in time lt\n",
    "        K = 0.5*np.sum( v * v)\n",
    "        scale=math.sqrt(1.5*(N-1)*T/K)\n",
    "        v=scale*v\n",
    "    else: \n",
    "        #Only do pressure when not using thermostat\n",
    "        pressure += pressuret  \n",
    "    \n",
    "P = 1 - 1/(6*N*T) * pressure/((Time-lt)) - 2*math.pi*N/(3*T*(ld**3)) * 0.1223766835\n",
    "print(P)"
   ]
  },
  {
   "cell_type": "markdown",
   "metadata": {},
   "source": [
    "## Hoi Mitchel"
   ]
  },
  {
   "cell_type": "code",
   "execution_count": 9,
   "metadata": {
    "collapsed": false
   },
   "outputs": [
    {
     "name": "stdout",
     "output_type": "stream",
     "text": [
      "-0.0654751241552749\n"
     ]
    }
   ],
   "source": [
    "Time = 5000 #amount of timesteps for Cv calculation\n",
    "lt = 2500 #amount of timesteps to thermostate\n",
    "dt = 0.004 #length of timestep\n",
    "\n",
    "#initiate atoms\n",
    "r=init.position(l,N,L)\n",
    "v=init.velocity(T,N)\n",
    "F, nt, pressuret = Forcesg(r, ld, N,1,ld)\n",
    "\n",
    "\n",
    "## MOOT variables\n",
    "bins = 1\n",
    "binlen = ld\n",
    "\n",
    "#initiate vectors \n",
    "pressure = pressuret\n",
    "\n",
    "for i in range(Time):\n",
    "    ## Verlet Algorithm\n",
    "    v += 0.5* F * dt #halfway step for velocity (verlet)\n",
    "    r += v * dt #update position\n",
    "    r = np.mod(r , (ld)) #periodic boundary\n",
    "    F,nt,pressuret = Forcesg(r,ld,N,bins,binlen) #forces due to new position\n",
    "    v += 0.5 * F * dt #complete velocity step\n",
    "    \n",
    "    #Thermostat\n",
    "    if i<lt and (np.mod(i,10)==0): #mod for calling thermostat 10 times in time lt\n",
    "        K = 0.5*np.sum( v * v)\n",
    "        scale=math.sqrt(1.5*(N-1)*T/K)\n",
    "        v=scale*v\n",
    "    else: \n",
    "        #Only do pressure when not using thermostat\n",
    "        pressure += pressuret  \n",
    "    \n",
    "P = 1 - 1/(3*N*T) * pressure/((Time-lt)) - 2*math.pi*N/(3*T*(ld**3)) * 0.510601\n",
    "print(P)"
   ]
  },
  {
   "cell_type": "code",
   "execution_count": null,
   "metadata": {
    "collapsed": false
   },
   "outputs": [],
   "source": []
  }
 ],
 "metadata": {
  "kernelspec": {
   "display_name": "Python 3",
   "language": "python",
   "name": "python3"
  },
  "language_info": {
   "codemirror_mode": {
    "name": "ipython",
    "version": 3
   },
   "file_extension": ".py",
   "mimetype": "text/x-python",
   "name": "python",
   "nbconvert_exporter": "python",
   "pygments_lexer": "ipython3",
   "version": "3.5.1"
  }
 },
 "nbformat": 4,
 "nbformat_minor": 0
}
