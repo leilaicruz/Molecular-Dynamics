{
 "cells": [
  {
   "cell_type": "markdown",
   "metadata": {},
   "source": [
    "# Created on Mon Feb  1 14:39:07 2016\n",
    "\n",
    "@author: rubenbiesheuvel\n",
    "\n",
    "This program creates a way to calculate argon as a liquid, and what happens afterwards\n",
    "\n",
    "The steps we have to take are the following:\n",
    "\n",
    "Initialize:\n",
    "    \n",
    "    import libraries\n",
    "    \n",
    "    Put particles in place\n",
    "    \n",
    "    Give particles speed and direction\n",
    "    \n",
    "For each timestep:\n",
    "    \n",
    "    Calculate the force on each particle, dependent on the Leonard Jones potential\n",
    "    \n",
    "    Calculate the path the are going ot take using the Velocity-verlet\n",
    "    \n",
    "    Store the new place and velocity (velocity for temperature calculations)\n"
   ]
  },
  {
   "cell_type": "code",
   "execution_count": 4,
   "metadata": {
    "collapsed": false
   },
   "outputs": [],
   "source": [
    "import numpy as np\n",
    "import math as math\n",
    "import matplotlib.pyplot as plt\n",
    "from mpl_toolkits.mplot3d import Axes3D\n",
    "from itertools import product"
   ]
  },
  {
   "cell_type": "markdown",
   "metadata": {},
   "source": [
    "The following code initialzes the system, i.e. it puts the particles in a fcc grid of 3x3x3 unit cells. After that it creates random vectors for the speed of the particles. Taken from a gaussian distribution. To find the variance, the gaussian distribution was compared to a Maxwell distribution of speed for 1 velocity, being:\n",
    "\n",
    "\\begin{equation}\n",
    "f(v_{x}) = \\sqrt{\\frac{m}{2 \\pi k T}} e^{\\frac{-m v_{x}^2}{2 k T}}\n",
    "\\end{equation}\n"
   ]
  },
  {
   "cell_type": "code",
   "execution_count": 6,
   "metadata": {
    "collapsed": false
   },
   "outputs": [],
   "source": [
    "#constants\n",
    "T = 3 #temperature in Kelvin\n",
    "L = 3 #number of unit cells in 3 directions\n",
    "Z = 4 #number of atoms per unit cell\n",
    "N = Z*L**3 #number of atoms in total space \n",
    "\n",
    "M = 39.948 * 1.660538921*10**(-27) #mass argon in kg\n",
    "k = 1.38064852*10**(-23) #boltzmann constatnt in SI units\n",
    "\n",
    "# build a structure of atoms such that they are fcc spaced in and LxLxL unit space of length l\n",
    "def init_pos(l=1):\n",
    "    # particles in unit cell\n",
    "    r = np.zeros(shape=(N, 3), dtype=\"float64\")\n",
    "    #coordinates of 4 particles in the unit cell\n",
    "    p1 = np.array([0.25, 0.25, 0.25])\n",
    "    p2 = np.array([0.75, 0.75, 0.25])\n",
    "    p3 = np.array([0.75, 0.25, 0.75])\n",
    "    p4 = np.array([0.25, 0.75, 0.75])\n",
    "\n",
    "    # distribute all the particles by using the unit cell and displacing it in x y and z with length l\n",
    "    n=0\n",
    "    for x, y, z in product(range(L), range(L), range(L)):\n",
    "        disp = np.multiply(l, np.array([x, y, z])) #displacement array\n",
    "        r[n] = p1 + disp\n",
    "        r[n + 1] = p2 + disp\n",
    "        r[n + 2] = p3 + disp\n",
    "        r[n + 3] = p4 + disp\n",
    "        n += 4\n",
    "        \n",
    "    return r"
   ]
  },
  {
   "cell_type": "code",
   "execution_count": 7,
   "metadata": {
    "collapsed": false
   },
   "outputs": [],
   "source": [
    "\n",
    "def init_vel(k=1.38064852*10**(-23), T=3, M=39.948 * 1.660538921*10**(-27)):\n",
    "    v = np.zeros(shape=(N, 3), dtype=\"float64\")\n",
    "    sigma = math.sqrt(k*T/M) #variance of the system\n",
    "    mu = 0 #mean speed\n",
    "    v = np.random.normal(mu, sigma, 3*N).reshape(-1, 3)\n",
    "    v -= v.sum(axis=0) / N\n",
    "    return v"
   ]
  },
  {
   "cell_type": "code",
   "execution_count": 8,
   "metadata": {
    "collapsed": false
   },
   "outputs": [],
   "source": [
    "r = init_pos()\n",
    "v = init_vel()"
   ]
  },
  {
   "cell_type": "code",
   "execution_count": 15,
   "metadata": {
    "collapsed": false
   },
   "outputs": [],
   "source": [
    "# to visualize the velocity component to checdk the distribution and speed\n",
    "# fig = plt.figure()\n",
    "# ax = fig.add_subplot(111)\n",
    "\n",
    "# v = init_vel()\n",
    "# numBins = 50\n",
    "# ax.hist(v[:,1],numBins,color='green',alpha=0.8)"
   ]
  },
  {
   "cell_type": "code",
   "execution_count": 16,
   "metadata": {
    "collapsed": false
   },
   "outputs": [
    {
     "data": {
      "text/plain": [
       "4"
      ]
     },
     "execution_count": 16,
     "metadata": {},
     "output_type": "execute_result"
    }
   ],
   "source": [
    "2*2"
   ]
  },
  {
   "cell_type": "code",
   "execution_count": 11,
   "metadata": {
    "collapsed": false
   },
   "outputs": [],
   "source": []
  },
  {
   "cell_type": "code",
   "execution_count": 9,
   "metadata": {
    "collapsed": false
   },
   "outputs": [
    {
     "name": "stdout",
     "output_type": "stream",
     "text": [
      "<class 'numpy.ndarray'>\n"
     ]
    }
   ],
   "source": []
  }
 ],
 "metadata": {
  "kernelspec": {
   "display_name": "Python 3",
   "language": "python",
   "name": "python3"
  },
  "language_info": {
   "codemirror_mode": {
    "name": "ipython",
    "version": 3
   },
   "file_extension": ".py",
   "mimetype": "text/x-python",
   "name": "python",
   "nbconvert_exporter": "python",
   "pygments_lexer": "ipython3",
   "version": "3.5.1"
  }
 },
 "nbformat": 4,
 "nbformat_minor": 0
}
