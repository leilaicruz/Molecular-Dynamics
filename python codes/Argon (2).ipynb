{
 "cells": [
  {
   "cell_type": "markdown",
   "metadata": {},
   "source": [
    "# Created on Mon Feb  1 14:39:07 2016\n",
    "\n",
    "@author: rubenbiesheuvel\n",
    "\n",
    "This program creates a way to calculate argon as a liquid, and what happens afterwards\n",
    "\n",
    "The steps we have to take are the following:\n",
    "\n",
    "Initialize:\n",
    "    \n",
    "    import libraries\n",
    "    \n",
    "    Put particles in place\n",
    "    \n",
    "    Give particles speed and direction\n",
    "    \n",
    "For each timestep:\n",
    "    \n",
    "    Calculate the force on each particle, dependent on the Leonard Jones potential\n",
    "    \n",
    "    Calculate the path the are going ot take using the Velocity-verlet\n",
    "    \n",
    "    Store the new place and velocity (velocity for temperature calculations)\n"
   ]
  },
  {
   "cell_type": "code",
   "execution_count": 20,
   "metadata": {
    "collapsed": false
   },
   "outputs": [],
   "source": [
    "import numpy as np\n",
    "import math as math\n",
    "import matplotlib.pyplot as plt\n",
    "from mpl_toolkits.mplot3d import Axes3D\n",
    "from itertools import product\n",
    "%matplotlib inline"
   ]
  },
  {
   "cell_type": "markdown",
   "metadata": {},
   "source": [
    "The following code initialzes the system, i.e. it puts the particles in a fcc grid of 3x3x3 unit cells. After that it creates random vectors for the speed of the particles. Taken from a gaussian distribution. To find the variance, the gaussian distribution was compared to a Maxwell distribution of speed for 1 velocity, being:\n",
    "\n",
    "\\begin{equation}\n",
    "f(v_{x}) = \\sqrt{\\frac{m}{2 \\pi k T}} e^{\\frac{-m v_{x}^2}{2 k T}}\n",
    "\\end{equation}\n"
   ]
  },
  {
   "cell_type": "code",
   "execution_count": 70,
   "metadata": {
    "collapsed": false
   },
   "outputs": [],
   "source": [
    "#constants\n",
    "T = 3 #temperature in Kelvin\n",
    "L = 3 #number of unit cells in 3 directions\n",
    "Z = 4 #number of atoms per unit cell\n",
    "N = Z*L**3 #number of atoms in total space\n",
    "l = 1 #unit space length\n",
    "ld = L*l #computational domain\n",
    "\n",
    "M = 39.948 * 1.660538921*10**(-27) #mass argon in kg\n",
    "k = 1.38064852*10**(-23) #boltzmann constatnt in SI units\n",
    "\n",
    "# build a structure of atoms such that they are fcc spaced in and LxLxL unit space of length l\n",
    "def init_pos(l=1):\n",
    "    # particles in unit cell\n",
    "    r = np.zeros(shape=(N, 3), dtype=\"float64\")\n",
    "    #coordinates of 4 particles in the unit cell\n",
    "    p1 = np.array([0.25, 0.25, 0.25])\n",
    "    p2 = np.array([0.75, 0.75, 0.25])\n",
    "    p3 = np.array([0.75, 0.25, 0.75])\n",
    "    p4 = np.array([0.25, 0.75, 0.75])\n",
    "\n",
    "    # distribute all the particles by using the unit cell and displacing it in x y and z with length l\n",
    "    n=0\n",
    "    for x, y, z in product(range(L), range(L), range(L)):\n",
    "        disp = np.multiply(l, np.array([x, y, z])) #displacement array\n",
    "        r[n] = p1 + disp\n",
    "        r[n + 1] = p2 + disp\n",
    "        r[n + 2] = p3 + disp\n",
    "        r[n + 3] = p4 + disp\n",
    "        n += 4\n",
    "        \n",
    "    return r"
   ]
  },
  {
   "cell_type": "code",
   "execution_count": 71,
   "metadata": {
    "collapsed": false
   },
   "outputs": [],
   "source": [
    "\n",
    "def init_vel(k=1.38064852*10**(-23), T=3, M=39.948 * 1.660538921*10**(-27)):\n",
    "    v = np.zeros(shape=(N, 3), dtype=\"float64\")\n",
    "    sigma = math.sqrt(k*T/M) #variance of the system\n",
    "    mu = 0 #mean speed\n",
    "    v = np.random.normal(mu, sigma, 3*N).reshape(-1, 3)\n",
    "    v -= v.sum(axis=0) / N\n",
    "    return v"
   ]
  },
  {
   "cell_type": "code",
   "execution_count": 72,
   "metadata": {
    "collapsed": false
   },
   "outputs": [],
   "source": [
    "r = init_pos(l=1)\n",
    "v = init_vel()"
   ]
  },
  {
   "cell_type": "code",
   "execution_count": 15,
   "metadata": {
    "collapsed": false
   },
   "outputs": [],
   "source": [
    "# to visualize the velocity component to checdk the distribution and speed\n",
    "# fig = plt.figure()\n",
    "# ax = fig.add_subplot(111)\n",
    "\n",
    "# v = init_vel()\n",
    "# numBins = 50\n",
    "# ax.hist(v[:,1],numBins,color='green',alpha=0.8)"
   ]
  },
  {
   "cell_type": "code",
   "execution_count": 16,
   "metadata": {
    "collapsed": false
   },
   "outputs": [
    {
     "data": {
      "text/plain": [
       "4"
      ]
     },
     "execution_count": 16,
     "metadata": {},
     "output_type": "execute_result"
    }
   ],
   "source": []
  },
  {
   "cell_type": "code",
   "execution_count": null,
   "metadata": {
    "collapsed": false
   },
   "outputs": [],
   "source": []
  },
  {
   "cell_type": "code",
   "execution_count": 9,
   "metadata": {
    "collapsed": false,
    "scrolled": true
   },
   "outputs": [
    {
     "name": "stdout",
     "output_type": "stream",
     "text": [
      "<class 'numpy.ndarray'>\n"
     ]
    }
   ],
   "source": []
  },
  {
   "cell_type": "markdown",
   "metadata": {},
   "source": [
    "# Part two: The calculating"
   ]
  },
  {
   "cell_type": "markdown",
   "metadata": {},
   "source": [
    "To model the potential, the Leonard Jones potential is used. The paramters were found in A. Rahman, Phys. Rev. 136, A405 (1964).\n",
    "\n",
    "\\begin{array}\n",
    "e\\varepsilon &= 1.65 \\times 10^{-21} \\text{J}\\\\\n",
    "\\sigma &= 3.4 \\times 10^{-10} \\text{m}\\\\\n",
    "\\end{array}"
   ]
  },
  {
   "cell_type": "code",
   "execution_count": null,
   "metadata": {
    "collapsed": true
   },
   "outputs": [],
   "source": [
    "#this procedure calculate for particle i the distance to particle j. it looks for the nearest neighbour by comparing \n",
    "# the distance to l/2 ld (half of the length of the domain). This nearest neighbour is is then fed into the force funtion\n",
    "# giving back the force of particle j on particle i, which is summed for all particles j. \n",
    "\n",
    "Force = np.zeros(N-1,3)\n",
    "for i in range(N):\n",
    "    Forcelocal = np.zeros(1,3)\n",
    "    Dist = np.zeros(N,3)\n",
    "    for j in range(N):\n",
    "        for k in range(3):\n",
    "            if abs(r[i,k] - r[j,k]) = 0\n",
    "                Dist = np.delete(Dist,i,axis=0)\n",
    "            else if abs(r[i,k] - r[j,k]) <= ld/2\n",
    "                Dist[j,k] = abs(r[i,k] - r[j,k])\n",
    "            else if abs(r[i,k] - r[j,k] - ld) <= ld/2\n",
    "                Dist[j,k] = (r[i,k] - r[j,k] - l)\n",
    "            else if abs(r[i,k] - r[j,k] + ld) <= ld/2\n",
    "                Dist[j,k] = (r[i,k] - r[j,k] + l)\n",
    "            else\n",
    "                print(\"There is an error for the distance\")\n",
    "                break\n",
    "        Forcelocal[:] += FljArgon(Dist[j,:])\n",
    "    Force[i,:] = Forcelocal[:]"
   ]
  },
  {
   "cell_type": "code",
   "execution_count": 46,
   "metadata": {
    "collapsed": false
   },
   "outputs": [
    {
     "name": "stdout",
     "output_type": "stream",
     "text": [
      "0 1\n",
      "0 2\n",
      "0 3\n",
      "1 2\n",
      "1 3\n",
      "2 3\n"
     ]
    }
   ],
   "source": [
    "N = 4\n",
    "for i in range(N):\n",
    "    for j in range(i+1, N):\n",
    "        print(i,j)"
   ]
  },
  {
   "cell_type": "code",
   "execution_count": 87,
   "metadata": {
    "collapsed": false
   },
   "outputs": [
    {
     "name": "stdout",
     "output_type": "stream",
     "text": [
      "[  0   0   0 ..., 105 105 106]\n"
     ]
    }
   ],
   "source": [
    "# inds gives us the indices of an upper triangular matrix barring the diagonal. The distances are the nearest neighbour\n",
    "# due to the rounding using the int function. \n",
    "\n",
    "inds = np.triu_indices(N, k=1)\n",
    "distances = r[inds[0]] - r[inds[1]]\n",
    "distances -= np.rint(distances / L) * L\n",
    "norm = np.linalg.norm(distances, axis=1)\n",
    "\n",
    "# find the force on each particle"
   ]
  },
  {
   "cell_type": "code",
   "execution_count": 35,
   "metadata": {
    "collapsed": true
   },
   "outputs": [],
   "source": [
    "#this functions computes the force due to the Leonard Jones potential, by converting to spherical coordinates to \n",
    "# compute F, and afterwards back to x y and z components of F.\n",
    "def FljArgon(dx,dy,dz):\n",
    "    dr = math.sqrt(dx**2 + dy**2 + dz**2)\n",
    "    phi = math.acos(dz/dr)\n",
    "    theta = math.atan2(dy,dx)\n",
    "    \n",
    "    epsilon = 1.65*10**(-21)\n",
    "    sigma = 3.4 * 10**(-10)\n",
    "    F = 4*epsilon*( (12 / dr) * (sigma / dr) ** 12 - (6 / dr)* (sigma / dr) ** 6)\n",
    "    Fx = F * math.sin(theta) * math.cos(phi)\n",
    "    Fy = F * math.sin(theta) * math.sin(phi)\n",
    "    Fz = F * math.cos(theta)\n",
    "    \n",
    "    \n",
    "    return Fx, Fy, Fz"
   ]
  },
  {
   "cell_type": "code",
   "execution_count": 43,
   "metadata": {
    "collapsed": false
   },
   "outputs": [
    {
     "name": "stdout",
     "output_type": "stream",
     "text": [
      "[[4 5 6]\n",
      " [7 8 9]]\n"
     ]
    }
   ],
   "source": [
    "x = np.array([[1,2,3],\n",
    "        [4,5,6],\n",
    "        [7,8,9]])\n",
    "x = np.delete(x,0,axis=0)\n",
    "print(x)"
   ]
  }
 ],
 "metadata": {
  "kernelspec": {
   "display_name": "Python 3",
   "language": "python",
   "name": "python3"
  },
  "language_info": {
   "codemirror_mode": {
    "name": "ipython",
    "version": 3
   },
   "file_extension": ".py",
   "mimetype": "text/x-python",
   "name": "python",
   "nbconvert_exporter": "python",
   "pygments_lexer": "ipython3",
   "version": "3.5.1"
  }
 },
 "nbformat": 4,
 "nbformat_minor": 0
}
