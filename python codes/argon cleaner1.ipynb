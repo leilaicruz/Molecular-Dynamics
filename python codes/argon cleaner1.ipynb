{
 "cells": [
  {
   "cell_type": "code",
   "execution_count": 1,
   "metadata": {
    "collapsed": false
   },
   "outputs": [],
   "source": [
    "import numpy as np\n",
    "import init\n",
    "import force\n",
    "import timestep"
   ]
  },
  {
   "cell_type": "code",
   "execution_count": 2,
   "metadata": {
    "collapsed": false
   },
   "outputs": [],
   "source": [
    "r = init.position(3.76,108,3)\n",
    "v = init.velocity(1,1,1,108)\n",
    "acc, V = force.FljArgon(r,3*3.76,108)"
   ]
  },
  {
   "cell_type": "code",
   "execution_count": 4,
   "metadata": {
    "collapsed": false
   },
   "outputs": [],
   "source": [
    "Time = 20 #timesteps\n",
    "\n",
    "Energy=np.zeros(shape=(Time,1))\n",
    "Ve = np.zeros(shape=(Time,1))\n",
    "K = np.zeros(shape=(Time,1))\n",
    "\n",
    "dt = 0.004 #length of timestep\n",
    "\n",
    "#initialize position and velocity, calculate force due to this position\n",
    "\n",
    "# Verlet algorithm\n",
    "for i in range(Time):\n",
    "    r, v, acc, V = timestep.ts(r,v,acc,dt,3*3.76,108)"
   ]
  }
 ],
 "metadata": {
  "kernelspec": {
   "display_name": "Python 3",
   "language": "python",
   "name": "python3"
  }
 },
 "nbformat": 4,
 "nbformat_minor": 0
}
