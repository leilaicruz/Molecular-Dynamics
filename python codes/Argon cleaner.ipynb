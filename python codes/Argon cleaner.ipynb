{
 "cells": [
  {
   "cell_type": "markdown",
   "metadata": {},
   "source": [
    "## Argon!"
   ]
  },
  {
   "cell_type": "code",
   "execution_count": 90,
   "metadata": {
    "collapsed": true
   },
   "outputs": [],
   "source": [
    "import numpy as np\n",
    "import math as math\n",
    "import matplotlib.pyplot as plt\n",
    "from mpl_toolkits.mplot3d import Axes3D\n",
    "from itertools import product\n",
    "%matplotlib inline"
   ]
  },
  {
   "cell_type": "markdown",
   "metadata": {},
   "source": [
    "### constants"
   ]
  },
  {
   "cell_type": "code",
   "execution_count": 91,
   "metadata": {
    "collapsed": true
   },
   "outputs": [],
   "source": [
    "T = 1 #temperature in Kelvin\n",
    "L = 3 #number of unit cells in 3 directions\n",
    "Z = 4 #number of atoms per unit cell\n",
    "N = Z*L**3 #number of atoms in total space\n",
    "rho = 0.85 #density of particles\n",
    "l = (Z/rho)**(1/3) #unit cell length in sigma\n",
    "\n",
    "epsilon = 1 #normalized units\n",
    "sigma = 1 \n",
    "\n",
    "ld = L*l #computational domain length\n",
    "\n",
    "M = 1 #39.948 * 1.660538921*10**(-27) #mass argon in kg\n",
    "k = epsilon #boltzmann constatnt in SI units"
   ]
  },
  {
   "cell_type": "markdown",
   "metadata": {},
   "source": [
    "### init position fcc"
   ]
  },
  {
   "cell_type": "code",
   "execution_count": 92,
   "metadata": {
    "collapsed": true
   },
   "outputs": [],
   "source": [
    "def init_pos(l):\n",
    "    # particles in unit cell\n",
    "    r = np.zeros(shape=(N, 3), dtype=\"float64\")\n",
    "    #coordinates of 4 particles in the unit cell\n",
    "    p1 = l*np.array([0.25, 0.25, 0.25])\n",
    "    p2 = l*np.array([0.75, 0.75, 0.25])\n",
    "    p3 = l*np.array([0.75, 0.25, 0.75])\n",
    "    p4 = l*np.array([0.25, 0.75, 0.75])\n",
    "\n",
    "    # distribute all the particles by using the unit cell and displacing it in x y and z with length l\n",
    "    n=0\n",
    "    for x, y, z in product(range(L), range(L), range(L)):\n",
    "        disp = np.multiply(l, np.array([x, y, z])) #displacement array\n",
    "        r[n] = p1 + disp\n",
    "        r[n + 1] = p2 + disp\n",
    "        r[n + 2] = p3 + disp\n",
    "        r[n + 3] = p4 + disp\n",
    "        n += 4\n",
    "        \n",
    "    return r"
   ]
  },
  {
   "cell_type": "markdown",
   "metadata": {},
   "source": [
    "### Init velocity"
   ]
  },
  {
   "cell_type": "code",
   "execution_count": 93,
   "metadata": {
    "collapsed": true
   },
   "outputs": [],
   "source": [
    "def init_vel(k,T,M,N):\n",
    "    v = np.zeros(shape=(N, 3), dtype=\"float64\")\n",
    "    sigma = math.sqrt(k*T/M) #variance of the system\n",
    "    mu = 0 #mean speed\n",
    "    v = np.random.normal(mu, sigma, 3*N).reshape(-1, 3)\n",
    "    v -= v.sum(axis=0) / N\n",
    "    return v"
   ]
  },
  {
   "cell_type": "markdown",
   "metadata": {},
   "source": [
    "### force algorithm"
   ]
  },
  {
   "cell_type": "code",
   "execution_count": 94,
   "metadata": {
    "collapsed": true
   },
   "outputs": [],
   "source": [
    "def FljArgon(r, ld):\n",
    "    force=np.zeros(r.shape)\n",
    "    #dr = math.sqrt(dx**2 + dy**2 + dz**2)\n",
    "    epsilon = 1\n",
    "    sigma = 1\n",
    "    \n",
    "    acc=np.zeros(shape=(N,3))\n",
    "    V=0\n",
    "    \n",
    "    for i in range(N):\n",
    "        for j in range(i):\n",
    "            dx=r[i,0]-r[j,0]\n",
    "            dy=r[i,1]-r[j,1]\n",
    "            dz=r[i,2]-r[j,2]\n",
    "            dx -= np.rint(dx / ld) * ld\n",
    "            dy -= np.rint(dy / ld) * ld\n",
    "            dz -= np.rint(dz / ld) * ld\n",
    "            #dr=np.array([dx,dy,dz])\n",
    "            dr2=dx*dx + dy*dy + dz*dz\n",
    "            dr2 = 1/dr2\n",
    "            dr6=dr2*dr2*dr2\n",
    "            dr12=dr6*dr6\n",
    "            dr14=dr12*dr2\n",
    "            dr8=dr6*dr2\n",
    "            V+=4*(dr12-dr6)\n",
    "            force=24*(2*dr14-dr8)\n",
    "            acc[i,0]+=force*dx\n",
    "            acc[i,1]+=force*dy\n",
    "            acc[i,2]+=force*dz\n",
    "            acc[j,0]-=acc[i,0]\n",
    "            acc[j,1]-=acc[i,1]\n",
    "            acc[j,2]-=acc[i,2]\n",
    "    \n",
    "    return acc, V"
   ]
  },
  {
   "cell_type": "markdown",
   "metadata": {},
   "source": [
    "### timestep function"
   ]
  },
  {
   "cell_type": "code",
   "execution_count": 95,
   "metadata": {
    "collapsed": true
   },
   "outputs": [],
   "source": [
    "def timestep(r,v,acc,dt):\n",
    "    v += 0.5* acc * dt #halfway step for velocity (verlet)\n",
    "    r += v * dt #update position\n",
    "    r = np.mod(r , (ld)) #periodic boundary\n",
    "    acc,V = FljArgon(r,ld) #forces due to new position\n",
    "    v += 0.5 * acc * dt #complete velocity step\n",
    "    \n",
    "    return r,v,acc,V"
   ]
  },
  {
   "cell_type": "markdown",
   "metadata": {},
   "source": [
    "## Energy calculation"
   ]
  },
  {
   "cell_type": "code",
   "execution_count": 96,
   "metadata": {
    "collapsed": false
   },
   "outputs": [],
   "source": [
    "Time = 100 #timesteps\n",
    "\n",
    "Energy=np.zeros(shape=(Time,1))\n",
    "Ve = np.zeros(shape=(Time,1))\n",
    "K = np.zeros(shape=(Time,1))\n",
    "\n",
    "dt = 0.004 #length of timestep\n",
    "\n",
    "#initialize position and velocity, calculate force due to this position\n",
    "r = init_pos(l)\n",
    "v = init_vel(k,T,M,N)\n",
    "acc,V = FljArgon(r,ld)\n"
   ]
  },
  {
   "cell_type": "code",
   "execution_count": 97,
   "metadata": {
    "collapsed": false
   },
   "outputs": [],
   "source": [
    "for i in range(Time):\n",
    "    r, v, acc, V = timestep(r,v,acc,dt)\n",
    "    v2=np.multiply(v,v)\n",
    "    K[i]=0.5*np.sum(v2)\n",
    "    Ve[i]= V\n",
    "    Energy[i]=Ve[i]+K[i]"
   ]
  },
  {
   "cell_type": "code",
   "execution_count": 98,
   "metadata": {
    "collapsed": false
   },
   "outputs": [
    {
     "name": "stdout",
     "output_type": "stream",
     "text": [
      "3.12157807367e+17\n"
     ]
    },
    {
     "data": {
      "image/png": "[encoded data removed]",
      "text/plain": [
       "<matplotlib.figure.Figure at 0x109067898>"
      ]
     },
     "metadata": {},
     "output_type": "display_data"
    }
   ],
   "source": [
    "fig = plt.figure()\n",
    "ax = fig.add_subplot(111)\n",
    "ax.plot(Energy)\n",
    "ax.plot(Ve)\n",
    "ax.plot(K)\n",
    "plt.legend(['Total','Potential','Kinetic'])\n",
    "#ax.set_yscale('log')\n",
    "#plt.ylim([1,10**1])\n",
    "plt.show\n",
    "\n",
    "print(V)"
   ]
  }
 ],
 "metadata": {
  "kernelspec": {
   "display_name": "Python 3",
   "language": "python",
   "name": "python3"
  },
  "language_info": {
   "codemirror_mode": {
    "name": "ipython",
    "version": 3
   },
   "file_extension": ".py",
   "mimetype": "text/x-python",
   "name": "python",
   "nbconvert_exporter": "python",
   "pygments_lexer": "ipython3",
   "version": "3.5.1"
  }
 },
 "nbformat": 4,
 "nbformat_minor": 0
}
