{
 "cells": [
  {
   "cell_type": "code",
   "execution_count": 1,
   "metadata": {
    "collapsed": false
   },
   "outputs": [],
   "source": [
    "import numpy as np\n",
    "import math as math\n",
    "import matplotlib.pyplot as plt\n",
    "import statistics as stats\n",
    "from mpl_toolkits.mplot3d import Axes3D\n",
    "from itertools import product\n",
    "from numba import jit\n",
    "import timeit\n",
    "%matplotlib inline\n",
    "\n",
    "\n",
    "import force\n",
    "import timestep\n",
    "import init\n",
    "from HeatC import CV\n",
    "from simulation import simulate\n",
    "from thermostat import thermostat\n",
    "from corrg import correlation"
   ]
  },
  {
   "cell_type": "markdown",
   "metadata": {},
   "source": [
    "### Constants"
   ]
  },
  {
   "cell_type": "code",
   "execution_count": 24,
   "metadata": {
    "collapsed": false
   },
   "outputs": [],
   "source": [
    "#preferrably unvariable\n",
    "L = 6 #number of unit cells in 3 directions\n",
    "Z = 4 #number of atoms per unit cell\n",
    "N = Z*L**3 #number of atoms in total space\n",
    "\n",
    "\n",
    "## input parameters\n",
    "rho = 0.85 #density of particles\n",
    "T = 0.8\n",
    "\n",
    "## parameters that are influenced by input parameters\n",
    "l = (Z/rho)**(1/3) #unit cell length in sigma\n",
    "ld = L*l #computational domain length\n",
    "\n",
    "## Verlet units\n",
    "Time = np.array([250]) #timesteps\n",
    "dt = 0.004 #length of timestep\n",
    "lt = 200 #amount of timesteps to thermostate\n",
    "\n",
    "## for the correlation function\n",
    "bins = 50\n",
    "VN = ld*ld*ld /(N*N)\n",
    "maxs = np.linspace(0,ld,num=bins)\n",
    "dmaxs = maxs[1]-maxs[0]\n",
    "\n",
    "\n",
    "## initialize vector\n",
    "#Ki = np.zeros(shape=(Time,2))\n",
    "#Energyi = np.zeros(shape=(Time,2))\n",
    "Cv = np.zeros(shape=(len(Time),))\n",
    "g = np.zeros(shape=(bins,))"
   ]
  },
  {
   "cell_type": "markdown",
   "metadata": {},
   "source": [
    "## Computation of Cv"
   ]
  },
  {
   "cell_type": "code",
   "execution_count": null,
   "metadata": {
    "collapsed": false
   },
   "outputs": [],
   "source": [
    "for i in range((len(Time))):\n",
    "    r = init.position(l,N,L) #initialize particles\n",
    "    v = init.velocity(T,N) #initialize speed\n",
    "    acc, V = force.FljArgon(r,ld,N) #initialize forces and potential energy\n",
    "               \n",
    "    K, Energy, r, g = simulate(Time[i],dt,r,v,acc,V,ld,N,T,lt,bins,VN,maxs,dmaxs)\n",
    "    Cv[i] = CV(lt,K,N)\n",
    "    \n",
    "# fig = plt.figure()\n",
    "# ax = fig.add_subplot(121, projection='3d')\n",
    "# ax.scatter(r[:,0],r[:,1],r[:,2])\n",
    "# ax = fig.add_subplot(122)\n",
    "# ax.plot(Energy)"
   ]
  },
  {
   "cell_type": "code",
   "execution_count": null,
   "metadata": {
    "collapsed": false
   },
   "outputs": [],
   "source": []
  },
  {
   "cell_type": "code",
   "execution_count": null,
   "metadata": {
    "collapsed": true
   },
   "outputs": [],
   "source": []
  },
  {
   "cell_type": "code",
   "execution_count": null,
   "metadata": {
    "collapsed": false
   },
   "outputs": [],
   "source": []
  },
  {
   "cell_type": "code",
   "execution_count": 22,
   "metadata": {
    "collapsed": false
   },
   "outputs": [
    {
     "data": {
      "text/plain": [
       "(0, 4)"
      ]
     },
     "execution_count": 22,
     "metadata": {},
     "output_type": "execute_result"
    },
    {
     "data": {
      "image/png": "[encoded data removed]",
      "text/plain": [
       "<matplotlib.figure.Figure at 0x10b9ec5c0>"
      ]
     },
     "metadata": {},
     "output_type": "display_data"
    }
   ],
   "source": [
    "fig = plt.figure()\n",
    "ax = fig.add_subplot(111)\n",
    "#ax.plot(dr2)\n",
    "ax.plot(maxs,g/(Time-lt))\n",
    "plt.xlim([0,4])"
   ]
  }
 ],
 "metadata": {
  "kernelspec": {
   "display_name": "Python 3",
   "language": "python",
   "name": "python3"
  },
  "language_info": {
   "codemirror_mode": {
    "name": "ipython",
    "version": 3
   },
   "file_extension": ".py",
   "mimetype": "text/x-python",
   "name": "python",
   "nbconvert_exporter": "python",
   "pygments_lexer": "ipython3",
   "version": "3.5.1"
  }
 },
 "nbformat": 4,
 "nbformat_minor": 0
}
