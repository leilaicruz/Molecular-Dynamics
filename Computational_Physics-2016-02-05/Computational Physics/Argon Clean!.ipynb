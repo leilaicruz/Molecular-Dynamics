{
 "cells": [
  {
   "cell_type": "markdown",
   "metadata": {},
   "source": [
    "# Argon clean!!"
   ]
  },
  {
   "cell_type": "code",
   "execution_count": 1,
   "metadata": {
    "collapsed": false
   },
   "outputs": [],
   "source": [
    "import numpy as np\n",
    "import math as math\n",
    "import matplotlib.pyplot as plt\n",
    "import statistics as stats\n",
    "from mpl_toolkits.mplot3d import Axes3D\n",
    "from itertools import product\n",
    "from numba import jit\n",
    "import timeit\n",
    "%matplotlib inline\n",
    "\n",
    "import init\n",
    "from force import Forces\n",
    "from Forcesg import Forcesg"
   ]
  },
  {
   "cell_type": "markdown",
   "metadata": {},
   "source": [
    "# General constants"
   ]
  },
  {
   "cell_type": "code",
   "execution_count": 25,
   "metadata": {
    "collapsed": true
   },
   "outputs": [],
   "source": [
    "#preferrably unvariable\n",
    "L = 3 #number of unit cells in 3 directions\n",
    "Z = 4 #number of atoms per unit cell\n",
    "N = Z*L**3 #number of atoms in total space\n",
    "\n",
    "\n",
    "## input parameters , for controlling the phase \n",
    "rho = 0.8 #density of particles\n",
    "T = 0.8\n",
    "\n",
    "## parameters that are influenced by input parameters\n",
    "l = (Z/rho)**(1/3) #unit cell length in sigma\n",
    "ld = L*l #computational domain length\n",
    "\n",
    "\n",
    "\n",
    "\n",
    "\n"
   ]
  },
  {
   "cell_type": "markdown",
   "metadata": {},
   "source": [
    "# Constant Energy verification"
   ]
  },
  {
   "cell_type": "code",
   "execution_count": null,
   "metadata": {
    "collapsed": false
   },
   "outputs": [],
   "source": [
    "r=init.position(l,N,L)\n",
    "v=init.velocity(T,N)\n",
    "F,V=Forces(r, ld, N)\n",
    "\n",
    "Time = 250 #timesteps\n",
    "dt = 0.004 #length of timestep\n",
    "\n",
    "#initiate vectors\n",
    "K=np.zeros(shape=(Time,))\n",
    "Energy=np.zeros(shape=(Time,))\n",
    "Ve = np.zeros(shape=(Time, ))\n",
    "\n",
    "for i in range(Time):\n",
    "    ## Verlet algorithm\n",
    "    v += 0.5* F * dt #halfway step for velocity (verlet)\n",
    "    r += v * dt #update position\n",
    "    r = np.mod(r , (ld)) #periodic boundary\n",
    "    F,V = Forces(r,ld,N) #forces due to new position\n",
    "    v += 0.5 * F * dt #complete velocity step\n",
    "    v2 = np.multiply(v,v)\n",
    "    \n",
    "    #Calculate energies\n",
    "    K[i] = 0.5*np.sum(v2) #kinetic energy\n",
    "    Ve[i]=V #potential\n",
    "    Energy[i]=K[i]+Ve[i] #total\n",
    "\n",
    "fig = plt.figure()\n",
    "ax = fig.add_subplot(111)\n",
    "ax.plot(Energy,label='Total')\n",
    "ax.plot(Ve,label='Potential')\n",
    "ax.plot(K,label='Kinetic')\n",
    "plt.legend(loc=0)\n",
    "# a = plt.plot(Energy, label='Energy')\n",
    "# b = plt.plot(Ve, label='Potential Energy')\n",
    "# c = plt.plot(K, label='Kinetics Energy')\n",
    "# plt.legend(handles=[a,b,c])\n",
    "\n",
    "\n",
    "\n",
    "    \n"
   ]
  },
  {
   "cell_type": "markdown",
   "metadata": {},
   "source": [
    "# Determination of Averages"
   ]
  },
  {
   "cell_type": "markdown",
   "metadata": {},
   "source": [
    "Scaling of the velocities for a desired temperature"
   ]
  },
  {
   "cell_type": "code",
   "execution_count": null,
   "metadata": {
    "collapsed": false
   },
   "outputs": [],
   "source": [
    "Time = 1000 #amount of timesteps for Cv calculation\n",
    "lt = 200 #amount of timesteps to thermostate\n",
    "\n",
    "#initiate atoms\n",
    "r=init.position(l,N,L)\n",
    "v=init.velocity(T,N)\n",
    "F,V=Forces(r, ld, N)\n",
    "\n",
    "#initiate vectors \n",
    "K=np.zeros(shape=(Time,))\n",
    "Energy = np.zeros(shape=(Time,))\n",
    "\n",
    "for i in range(Time):\n",
    "    ## Verlet Algorithm\n",
    "    v += 0.5* F * dt #halfway step for velocity (verlet)\n",
    "    r += v * dt #update position\n",
    "    r = np.mod(r , (ld)) #periodic boundary\n",
    "    F,V = Forces(r,ld,N) #forces due to new position\n",
    "    v += 0.5 * F * dt #complete velocity step\n",
    "    \n",
    "    #Thermostat\n",
    "    K[i] = 0.5*np.sum( v * v)\n",
    "    if i<lt and (np.mod(i,1)==0): #mod for calling thermostat 10 times in time lt\n",
    "        scale=math.sqrt(1.5*(N-1)*T/K[i])\n",
    "        v=scale*v\n",
    "        \n",
    "    #Energy to calculate Cv\n",
    "    K[i] = 0.5*np.sum( v * v)\n",
    "    Energy[i] = K[i] + V        \n",
    "   "
   ]
  },
  {
   "cell_type": "markdown",
   "metadata": {},
   "source": [
    " ## Heat Capacity \n",
    "\n"
   ]
  },
  {
   "cell_type": "code",
   "execution_count": null,
   "metadata": {
    "collapsed": false
   },
   "outputs": [],
   "source": [
    "Knew = K[lt:]\n",
    "#print(Knew)\n",
    "Kmean = np.mean(Knew)\n",
    "Kmean2 = Kmean*Kmean\n",
    "Kvar = np.var(Knew)\n",
    "Cv = (3*Kmean2)/(2*Kmean2 - 3*N*Kvar) # should be Cv = (3*Kmean2)*N/(2*Kmean2 - 3*N*Kvar)??\n",
    "print(\"Cv is\", Cv)\n",
    "\n",
    "\n",
    "fig = plt.figure()\n",
    "ax = fig.add_subplot(111)\n",
    "plt.plot(Energy,label='Total')\n",
    "plt.plot(K,label='Kinetic')\n",
    "plt.legend(loc=0)"
   ]
  },
  {
   "cell_type": "markdown",
   "metadata": {},
   "source": [
    "# Correlation function"
   ]
  },
  {
   "cell_type": "code",
   "execution_count": 26,
   "metadata": {
    "collapsed": false
   },
   "outputs": [],
   "source": [
    "Time = 200 #amount of timesteps for Cv calculation\n",
    "\n",
    "bins=50\n",
    "binlen=ld/bins\n",
    "dt = 0.004 #length of timestep\n",
    "#initiate atoms\n",
    "r=init.position(l,N,L)\n",
    "v=init.velocity(T,N)\n",
    "F,n=Forcesg(r, ld, N,bins,binlen)\n",
    "\n",
    "\n",
    "for i in range(Time):\n",
    "    ## Verlet Algorithm\n",
    "    v += 0.5* F * dt #halfway step for velocity (verlet)\n",
    "    r += v * dt #update position\n",
    "    r = np.mod(r , (ld)) #periodic boundary\n",
    "    F,nt = Forcesg(r,ld,N,bins,binlen) #forces due to new position\n",
    "    v += 0.5 * F * dt #complete velocity step\n",
    "    n+=nt\n",
    "    \n",
    "navg=n/Time\n",
    "\n",
    "for j in range(bins):\n",
    "    Vshell=4*math.pi*(((j+0.5)*binlen)**2)*binlen\n",
    "    navg[j]=navg[j]/Vshell\n",
    "    \n",
    "corr=2*ld**3/(N*(N-1))*navg\n"
   ]
  },
  {
   "cell_type": "code",
   "execution_count": 27,
   "metadata": {
    "collapsed": false
   },
   "outputs": [
    {
     "name": "stdout",
     "output_type": "stream",
     "text": [
      "0.1025985568006018\n"
     ]
    },
    {
     "data": {
      "text/plain": [
       "[<matplotlib.lines.Line2D at 0xa092be0>]"
      ]
     },
     "execution_count": 27,
     "metadata": {},
     "output_type": "execute_result"
    },
    {
     "data": {
      "image/png": "[encoded data removed]",
      "text/plain": [
       "<matplotlib.figure.Figure at 0x9fce0f0>"
      ]
     },
     "metadata": {},
     "output_type": "display_data"
    }
   ],
   "source": [
    "\n",
    "\n",
    "print(binlen)\n",
    "fig = plt.figure()\n",
    "ax = fig.add_subplot(111)\n",
    "ax.plot(corr)"
   ]
  }
 ],
 "metadata": {
  "kernelspec": {
   "display_name": "Python 3",
   "language": "python",
   "name": "python3"
  },
  "language_info": {
   "codemirror_mode": {
    "name": "ipython",
    "version": 3
   },
   "file_extension": ".py",
   "mimetype": "text/x-python",
   "name": "python",
   "nbconvert_exporter": "python",
   "pygments_lexer": "ipython3",
   "version": "3.5.1"
  }
 },
 "nbformat": 4,
 "nbformat_minor": 0
}
