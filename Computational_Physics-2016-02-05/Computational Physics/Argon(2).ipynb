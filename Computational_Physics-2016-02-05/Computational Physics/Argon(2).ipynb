{
 "cells": [
  {
   "cell_type": "markdown",
   "metadata": {},
   "source": [
    "# Created on Mon Feb  1 14:39:07 2016\n",
    "\n",
    "@author: rubenbiesheuvel\n",
    "\n",
    "This program creates a way to calculate argon as a liquid, and what happens afterwards\n",
    "\n",
    "The steps we have to take are the following:\n",
    "\n",
    "Initialize:\n",
    "    \n",
    "    import libraries\n",
    "    \n",
    "    Put particles in place\n",
    "    \n",
    "    Give particles speed and direction\n",
    "    \n",
    "For each timestep:\n",
    "    \n",
    "    Calculate the force on each particle, dependent on the Leonard Jones potential\n",
    "    \n",
    "    Calculate the path the are going ot take using the Velocity-verlet\n",
    "    \n",
    "    Store the new place and velocity (velocity for temperature calculations)\n"
   ]
  },
  {
   "cell_type": "code",
   "execution_count": 20,
   "metadata": {
    "collapsed": false
   },
   "outputs": [],
   "source": [
    "import numpy as np\n",
    "import math as math\n",
    "import matplotlib.pyplot as plt\n",
    "from mpl_toolkits.mplot3d import Axes3D\n",
    "from itertools import product\n",
    "%matplotlib inline"
   ]
  },
  {
   "cell_type": "markdown",
   "metadata": {},
   "source": [
    "The following code initialzes the system, i.e. it puts the particles in a fcc grid of 3x3x3 unit cells. After that it creates random vectors for the speed of the particles. Taken from a gaussian distribution. To find the variance, the gaussian distribution was compared to a Maxwell distribution of speed for 1 velocity, being:\n",
    "\n",
    "\\begin{equation}\n",
    "f(v_{x}) = \\sqrt{\\frac{m}{2 \\pi k T}} e^{\\frac{-m v_{x}^2}{2 k T}}\n",
    "\\end{equation}\n"
   ]
  },
  {
   "cell_type": "code",
   "execution_count": 205,
   "metadata": {
    "collapsed": false
   },
   "outputs": [
    {
     "name": "stdout",
     "output_type": "stream",
     "text": [
      "864\n"
     ]
    }
   ],
   "source": [
    "#constants\n",
    "T = 1 #temperature in Kelvin\n",
    "L = 6 #number of unit cells in 3 directions\n",
    "Z = 4 #number of atoms per unit cell\n",
    "N = Z*L**3 #number of atoms in total space\n",
    "l = 2**(1/6) #unit space length\n",
    "ld = L*l #computational domain\n",
    "\n",
    "epsilon = 1 #normalized units\n",
    "M = 1 #39.948 * 1.660538921*10**(-27) #mass argon in kg\n",
    "k = epsilon #boltzmann constatnt in SI units\n",
    "\n",
    "# build a structure of atoms such that they are fcc spaced in and LxLxL unit space of length l\n",
    "def init_pos(l):\n",
    "    # particles in unit cell\n",
    "    r = np.zeros(shape=(N, 3), dtype=\"float64\")\n",
    "    #coordinates of 4 particles in the unit cell\n",
    "    p1 = np.array([0.25, 0.25, 0.25])\n",
    "    p2 = np.array([0.75, 0.75, 0.25])\n",
    "    p3 = np.array([0.75, 0.25, 0.75])\n",
    "    p4 = np.array([0.25, 0.75, 0.75])\n",
    "\n",
    "    # distribute all the particles by using the unit cell and displacing it in x y and z with length l\n",
    "    n=0\n",
    "    for x, y, z in product(range(L), range(L), range(L)):\n",
    "        disp = np.multiply(l, np.array([x, y, z])) #displacement array\n",
    "        r[n] = p1 + disp\n",
    "        r[n + 1] = p2 + disp\n",
    "        r[n + 2] = p3 + disp\n",
    "        r[n + 3] = p4 + disp\n",
    "        n += 4\n",
    "        \n",
    "    return r"
   ]
  },
  {
   "cell_type": "code",
   "execution_count": 235,
   "metadata": {
    "collapsed": false
   },
   "outputs": [
    {
     "data": {
      "text/plain": [
       "(array([   4.,   23.,   69.,   88.,  100.,  121.,  125.,   94.,   77.,\n",
       "          62.,   42.,   29.,   13.,    7.,    8.,    2.,    0.,    0.,\n",
       "           0.,    0.]),\n",
       " array([ 0.  ,  0.25,  0.5 ,  0.75,  1.  ,  1.25,  1.5 ,  1.75,  2.  ,\n",
       "         2.25,  2.5 ,  2.75,  3.  ,  3.25,  3.5 ,  3.75,  4.  ,  4.25,\n",
       "         4.5 ,  4.75,  5.  ]),\n",
       " <a list of 20 Patch objects>)"
      ]
     },
     "execution_count": 235,
     "metadata": {},
     "output_type": "execute_result"
    },
    {
     "data": {
      "image/png": "[encoded data removed]",
      "text/plain": [
       "<matplotlib.figure.Figure at 0x10bc47908>"
      ]
     },
     "metadata": {},
     "output_type": "display_data"
    }
   ],
   "source": [
    "\n",
    "def init_vel(k,T,M):\n",
    "    v = np.zeros(shape=(N, 3), dtype=\"float64\")\n",
    "    sigma = math.sqrt(k*T/M) #variance of the system\n",
    "    mu = 0 #mean speed\n",
    "    v = np.random.normal(mu, sigma, 3*N).reshape(-1, 3)\n",
    "    v -= v.sum(axis=0) / N\n",
    "    return v\n",
    "\n",
    "v = init_vel(k,T,M)\n",
    "fig = plt.figure()\n",
    "ax = fig.add_subplot(111)\n",
    "vs = (np.linalg.norm(v,axis=1))\n",
    "plt.hist(vs, bins = 20, range=(0,5))"
   ]
  },
  {
   "cell_type": "code",
   "execution_count": 214,
   "metadata": {
    "collapsed": false
   },
   "outputs": [
    {
     "name": "stdout",
     "output_type": "stream",
     "text": [
      "864\n",
      "(864, 3)\n",
      "(864, 3)\n",
      "372816\n"
     ]
    }
   ],
   "source": [
    "r = init_pos(l)\n",
    "v = init_vel(k,T,M)\n",
    "print(N)\n",
    "print(r.shape)\n",
    "print(v.shape)\n",
    "print(len(inds[0]))"
   ]
  },
  {
   "cell_type": "code",
   "execution_count": 15,
   "metadata": {
    "collapsed": false
   },
   "outputs": [],
   "source": [
    "# to visualize the velocity component to checdk the distribution and speed\n",
    "# fig = plt.figure()\n",
    "# ax = fig.add_subplot(111)\n",
    "\n",
    "# v = init_vel()\n",
    "# numBins = 50\n",
    "# ax.hist(v[:,1],numBins,color='green',alpha=0.8)"
   ]
  },
  {
   "cell_type": "code",
   "execution_count": 16,
   "metadata": {
    "collapsed": false
   },
   "outputs": [
    {
     "data": {
      "text/plain": [
       "4"
      ]
     },
     "execution_count": 16,
     "metadata": {},
     "output_type": "execute_result"
    }
   ],
   "source": []
  },
  {
   "cell_type": "code",
   "execution_count": null,
   "metadata": {
    "collapsed": false
   },
   "outputs": [],
   "source": []
  },
  {
   "cell_type": "code",
   "execution_count": 9,
   "metadata": {
    "collapsed": false,
    "scrolled": true
   },
   "outputs": [
    {
     "name": "stdout",
     "output_type": "stream",
     "text": [
      "<class 'numpy.ndarray'>\n"
     ]
    }
   ],
   "source": []
  },
  {
   "cell_type": "markdown",
   "metadata": {},
   "source": [
    "# Part two: The calculating"
   ]
  },
  {
   "cell_type": "markdown",
   "metadata": {},
   "source": [
    "To model the potential, the Leonard Jones potential is used. The paramters were found in A. Rahman, Phys. Rev. 136, A405 (1964).\n",
    "\n",
    "\\begin{array}\n",
    "e\\varepsilon &= 1.65 \\times 10^{-21} \\text{J}\\\\\n",
    "\\sigma &= 3.4 \\times 10^{-10} \\text{m}\\\\\n",
    "\\end{array}"
   ]
  },
  {
   "cell_type": "code",
   "execution_count": null,
   "metadata": {
    "collapsed": true
   },
   "outputs": [],
   "source": [
    "#this procedure calculate for particle i the distance to particle j. it looks for the nearest neighbour by comparing \n",
    "# the distance to l/2 ld (half of the length of the domain). This nearest neighbour is is then fed into the force funtion\n",
    "# giving back the force of particle j on particle i, which is summed for all particles j. \n",
    "\n",
    "# Force = np.zeros(N-1,3)\n",
    "# for i in range(N):\n",
    "#     Forcelocal = np.zeros(1,3)\n",
    "#     Dist = np.zeros(N,3)\n",
    "#     for j in range(N):\n",
    "#         for k in range(3):\n",
    "#             if abs(r[i,k] - r[j,k]) = 0\n",
    "#                 Dist = np.delete(Dist,i,axis=0)\n",
    "#             else if abs(r[i,k] - r[j,k]) <= ld/2\n",
    "#                 Dist[j,k] = abs(r[i,k] - r[j,k])\n",
    "#             else if abs(r[i,k] - r[j,k] - ld) <= ld/2\n",
    "#                 Dist[j,k] = (r[i,k] - r[j,k] - l)\n",
    "#             else if abs(r[i,k] - r[j,k] + ld) <= ld/2\n",
    "#                 Dist[j,k] = (r[i,k] - r[j,k] + l)\n",
    "#             else\n",
    "#                 print(\"There is an error for the distance\")\n",
    "#                 break\n",
    "#         Forcelocal[:] += FljArgon(Dist[j,:])\n",
    "#     Force[i,:] = Forcelocal[:]"
   ]
  },
  {
   "cell_type": "code",
   "execution_count": 46,
   "metadata": {
    "collapsed": false
   },
   "outputs": [
    {
     "name": "stdout",
     "output_type": "stream",
     "text": [
      "0 1\n",
      "0 2\n",
      "0 3\n",
      "1 2\n",
      "1 3\n",
      "2 3\n"
     ]
    }
   ],
   "source": [
    "# N = 4\n",
    "# for i in range(N):\n",
    "#     for j in range(i+1, N):\n",
    "#         print(i,j)"
   ]
  },
  {
   "cell_type": "code",
   "execution_count": 178,
   "metadata": {
    "collapsed": false
   },
   "outputs": [],
   "source": [
    "# inds gives us the indices of an upper triangular matrix barring the diagonal. The distances are the nearest neighbour\n",
    "# due to the rounding using the int function. \n",
    "\n",
    "inds = np.triu_indices(N, k=1)\n",
    "distances = r[inds[0]] - r[inds[1]]\n",
    "distances -= np.rint(distances / L) * L\n",
    "norm = np.linalg.norm(distances, axis=1)\n",
    "# print(distances)\n",
    "# find the force on each particle\n",
    "#for i in range(N):\n",
    "    #indices = np.nonzero(inds[0]==i-1)[0]\n",
    "#print(indices)"
   ]
  },
  {
   "cell_type": "code",
   "execution_count": null,
   "metadata": {
    "collapsed": true
   },
   "outputs": [],
   "source": []
  },
  {
   "cell_type": "code",
   "execution_count": 224,
   "metadata": {
    "collapsed": false
   },
   "outputs": [
    {
     "name": "stdout",
     "output_type": "stream",
     "text": [
      "(372816, 3)\n"
     ]
    }
   ],
   "source": [
    "#this functions computes the force due to the Leonard Jones potential, by converting to spherical coordinates to \n",
    "# compute F, and afterwards back to x y and z components of F.\n",
    "# d should be an array of Nx3 distances (x,y,z), in this case the force is computed using a Nx3 matrix\n",
    "def FljArgon(d):\n",
    "    force=np.zeros(d.shape)\n",
    "    #dr = math.sqrt(dx**2 + dy**2 + dz**2)\n",
    "    epsilon = 1\n",
    "    sigma = 1\n",
    "    dr = np.linalg.norm(d, axis=1)\n",
    "    dx=d[:,0]\n",
    "    dy=d[:,1]\n",
    "    dz=d[:,2]\n",
    "    for i in range(len(dr)):\n",
    "        if dr[i] > 3:\n",
    "            force[i,:] = np.array([0,0,0])\n",
    "        else:\n",
    "            phi = math.acos(dz[i]/dr[i])\n",
    "            theta = math.atan2(dy[i],dx[i])\n",
    "            F = 4*epsilon*( (12 / dr[i]) * (sigma / dr[i]) ** 12 - (6 / dr[i])* (sigma / dr[i]) ** 6)\n",
    "            Fx = F * math.sin(theta) * math.cos(phi)\n",
    "            Fy = F * math.sin(theta) * math.sin(phi)\n",
    "            Fz = F * math.cos(theta)\n",
    "            force[i,:]=np.array([Fx,Fy,Fz])\n",
    "    \n",
    "    return force\n",
    "force = FljArgon(distances)\n",
    "print(force.shape)"
   ]
  },
  {
   "cell_type": "code",
   "execution_count": 219,
   "metadata": {
    "collapsed": false
   },
   "outputs": [
    {
     "name": "stdout",
     "output_type": "stream",
     "text": [
      "(372816, 3)\n"
     ]
    }
   ],
   "source": [
    "def Forces(r):\n",
    "    inds = np.triu_indices(N, k=1) #find indices of an upper triangular matrix, without the diagonal\n",
    "    distances = r[inds[0]] - r[inds[1]] #find distance\n",
    "    distances -= np.rint(distances / L) * L #search nearerst neighbou\n",
    "    #norm = np.linalg.norm(distances, axis=1) #find euclidean distance\n",
    "    \n",
    "    force = FljArgon(distances) #compute the Fx, Fy and Fz due to Leonard Jones potential\n",
    "    FxM = np.zeros(shape=(N,N))\n",
    "    FyM = np.zeros(shape=(N,N))\n",
    "    FzM = np.zeros(shape=(N,N))\n",
    "    #make anti-symmetrix force matrices\n",
    "    for i in range(len(distances[:,0])):\n",
    "        FxM[inds[0][i],inds[1][i]] = force[i,0]\n",
    "        FxM[inds[1][i],inds[0][i]] = -1*force[i,0]\n",
    "        FyM[inds[0][i],inds[1][i]] = force[i,1]\n",
    "        FyM[inds[1][i],inds[0][i]] = -1 * force[i,1]\n",
    "        FzM[inds[0][i],inds[1][i]] = force[i,2]\n",
    "        FzM[inds[1][i],inds[0][i]] = -1 * force[i,2]\n",
    "        \n",
    "    # Total force vectors of each particle in each direction\n",
    "\n",
    "    FxT=FxM.sum(axis=0)\n",
    "    FyT=FyM.sum(axis=0)\n",
    "    FzT=FzM.sum(axis=0)\n",
    "\n",
    "    FT = np.c_[FxT,FyT,FzT]\n",
    "    return FT\n",
    "Forces(distances)\n",
    "print(force.shape)"
   ]
  },
  {
   "cell_type": "code",
   "execution_count": 185,
   "metadata": {
    "collapsed": false
   },
   "outputs": [
    {
     "name": "stdout",
     "output_type": "stream",
     "text": [
      "(array([  0,   0,   0, ..., 861, 861, 862]), array([  1,   2,   3, ..., 862, 863, 863]))\n"
     ]
    }
   ],
   "source": [
    "# force=FljArgon(distances)\n",
    "# FxM=np.zeros(shape=(N,N))\n",
    "# FyM=np.zeros(shape=(N,N))\n",
    "# FzM=np.zeros(shape=(N,N))\n",
    "\n",
    "# #anti symmetric matrix to find force on the particle in x,y and z direction\n",
    "# for i in range(len(distances[:,0])):\n",
    "#     FxM[inds[0][i],inds[1][i]] = force[i,0]\n",
    "#     FxM[inds[1][i],inds[0][i]] = -1*force[i,0]\n",
    "#     FyM[inds[0][i],inds[1][i]] = force[i,1]\n",
    "#     FyM[inds[1][i],inds[0][i]] = -1 * force[i,1]\n",
    "#     FzM[inds[0][i],inds[1][i]] = force[i,2]\n",
    "#     FzM[inds[1][i],inds[0][i]] = -1 * force[i,2]\n",
    "print(inds)"
   ]
  },
  {
   "cell_type": "code",
   "execution_count": 150,
   "metadata": {
    "collapsed": false
   },
   "outputs": [
    {
     "name": "stdout",
     "output_type": "stream",
     "text": [
      "(108, 3)\n"
     ]
    },
    {
     "data": {
      "text/plain": [
       "True"
      ]
     },
     "execution_count": 150,
     "metadata": {},
     "output_type": "execute_result"
    }
   ],
   "source": [
    "# # Total force vectors of each particle in each direction\n",
    "\n",
    "# FxT=FxM.sum(axis=0)\n",
    "# FyT=FyM.sum(axis=0)\n",
    "# FzT=FzM.sum(axis=0)\n",
    "\n",
    "# FT = np.c_[FxT,FyT,FzT]"
   ]
  },
  {
   "cell_type": "markdown",
   "metadata": {},
   "source": [
    "# Cream of the crop!"
   ]
  },
  {
   "cell_type": "code",
   "execution_count": 240,
   "metadata": {
    "collapsed": false
   },
   "outputs": [
    {
     "name": "stdout",
     "output_type": "stream",
     "text": [
      "0\n",
      "1\n",
      "2\n",
      "3\n",
      "4\n",
      "5\n",
      "6\n",
      "7\n",
      "8\n",
      "9\n",
      "10\n",
      "11\n",
      "12\n",
      "13\n",
      "14\n",
      "15\n",
      "16\n",
      "17\n",
      "18\n",
      "19\n",
      "20\n",
      "21\n",
      "22\n",
      "23\n",
      "24\n",
      "25\n",
      "26\n",
      "27\n",
      "28\n",
      "29\n",
      "30\n",
      "31\n",
      "32\n",
      "33\n",
      "34\n",
      "35\n",
      "36\n",
      "37\n",
      "38\n",
      "39\n",
      "40\n",
      "41\n",
      "42\n",
      "43\n",
      "44\n",
      "45\n",
      "46\n",
      "47\n",
      "48\n",
      "49\n"
     ]
    }
   ],
   "source": [
    "Time = 50 #timesteps\n",
    "dt = 1*10**(-12) #length of timestep\n",
    "# t = np.linspace(0,Time*dt,num = Time)\n",
    "\n",
    "r = init_pos(l)\n",
    "v = init_vel(k,T,M)\n",
    "FT = Forces(r)\n",
    "\n",
    "\n",
    "\n",
    "for t in range(Time):\n",
    "    v += FT/(2*M) * dt #halfway step for velocity (verlet)\n",
    "    r += v * dt #update position\n",
    "    r -= np.rint(r / (2*L)) * (L) #periodic boundary  \n",
    "    FT = Forces(r) #forces due to new position\n",
    "    v += FT/(2*M) * dt #complete velocity step\n",
    "    print(t)\n",
    "\n"
   ]
  },
  {
   "cell_type": "code",
   "execution_count": 244,
   "metadata": {
    "collapsed": false
   },
   "outputs": [
    {
     "data": {
      "text/plain": [
       "(array([   4.,   36.,   69.,  125.,  146.,  148.,  108.,   68.,   38.,\n",
       "          29.,   19.,    7.,    1.,    1.,    1.,    0.,    0.,    0.,\n",
       "           0.,    0.]),\n",
       " array([ 0. ,  0.3,  0.6,  0.9,  1.2,  1.5,  1.8,  2.1,  2.4,  2.7,  3. ,\n",
       "         3.3,  3.6,  3.9,  4.2,  4.5,  4.8,  5.1,  5.4,  5.7,  6. ]),\n",
       " <a list of 20 Patch objects>)"
      ]
     },
     "execution_count": 244,
     "metadata": {},
     "output_type": "execute_result"
    },
    {
     "data": {
      "image/png": "[encoded data removed]",
      "text/plain": [
       "<matplotlib.figure.Figure at 0x10d10b0b8>"
      ]
     },
     "metadata": {},
     "output_type": "display_data"
    }
   ],
   "source": [
    "\n",
    "fig = plt.figure()\n",
    "ax2 = fig.add_subplot(121)\n",
    "plt.hist(v[:,0],bins=20,range=(-3,3))\n",
    "ax = fig.add_subplot(122)\n",
    "vs = (np.linalg.norm(v,axis=1))\n",
    "plt.hist(vs, bins = 20, range=(0,6))"
   ]
  },
  {
   "cell_type": "code",
   "execution_count": 165,
   "metadata": {
    "collapsed": false
   },
   "outputs": [
    {
     "data": {
      "text/plain": [
       "[<matplotlib.lines.Line2D at 0x10b82de10>]"
      ]
     },
     "execution_count": 165,
     "metadata": {},
     "output_type": "execute_result"
    },
    {
     "data": {
      "image/png": "[encoded data removed]",
      "text/plain": [
       "<matplotlib.figure.Figure at 0x10b124898>"
      ]
     },
     "metadata": {},
     "output_type": "display_data"
    }
   ],
   "source": [
    "ddr = np.linspace(1,2,100)\n",
    "Fplot = (2/(ddr**13) - (1/(ddr**7)))\n",
    "\n",
    "fig = plt.figure()\n",
    "ax = fig.add_subplot(111)\n",
    "plt.plot(ddr,Fplot)"
   ]
  }
 ],
 "metadata": {
  "kernelspec": {
   "display_name": "Python 3",
   "language": "python",
   "name": "python3"
  },
  "language_info": {
   "codemirror_mode": {
    "name": "ipython",
    "version": 3
   },
   "file_extension": ".py",
   "mimetype": "text/x-python",
   "name": "python",
   "nbconvert_exporter": "python",
   "pygments_lexer": "ipython3",
   "version": "3.5.1"
  }
 },
 "nbformat": 4,
 "nbformat_minor": 0
}
